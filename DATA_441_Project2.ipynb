{
  "nbformat": 4,
  "nbformat_minor": 0,
  "metadata": {
    "colab": {
      "provenance": []
    },
    "kernelspec": {
      "name": "python3",
      "display_name": "Python 3"
    },
    "language_info": {
      "name": "python"
    }
  },
  "cells": [
    {
      "cell_type": "markdown",
      "source": [
        "# Project 2: Using Multidimensional Data with Gramfort's Approach"
      ],
      "metadata": {
        "id": "Z3vEvt6e7uNp"
      }
    },
    {
      "cell_type": "code",
      "source": [
        "# graphical libraries\n",
        "%matplotlib inline\n",
        "%config InlineBackend.figure_format = 'retina'\n",
        "import matplotlib.pyplot as plt\n",
        "import matplotlib as mpl\n",
        "mpl.rcParams['figure.dpi'] = 120\n",
        "from IPython.display import Image\n",
        "from IPython.display import display\n",
        "plt.style.use('seaborn-white')"
      ],
      "metadata": {
        "id": "f6KxW3KGXqTI"
      },
      "execution_count": 2,
      "outputs": []
    },
    {
      "cell_type": "code",
      "source": [
        "# computational libraries\n",
        "import numpy as np\n",
        "import pandas as pd\n",
        "from sklearn.linear_model import LinearRegression, Ridge\n",
        "from sklearn.preprocessing import StandardScaler, QuantileTransformer\n",
        "from sklearn.ensemble import RandomForestRegressor\n",
        "from sklearn.pipeline import Pipeline\n",
        "import scipy.stats as stats \n",
        "from sklearn.model_selection import train_test_split as tts, KFold, GridSearchCV\n",
        "from sklearn.metrics import mean_squared_error as mse\n",
        "from scipy.interpolate import interp1d, griddata, LinearNDInterpolator, NearestNDInterpolator\n",
        "from math import ceil\n",
        "from scipy import linalg\n",
        "# the following line(s) are necessary if you want to make SKlearn compliant functions\n",
        "from sklearn.base import BaseEstimator, RegressorMixin\n",
        "from sklearn.utils.validation import check_X_y, check_array, check_is_fitted\n",
        "from sklearn.decomposition import PCA\n",
        "from scipy.spatial import Delaunay"
      ],
      "metadata": {
        "id": "kwqVOnu2Wx1G"
      },
      "execution_count": 18,
      "outputs": []
    },
    {
      "cell_type": "code",
      "source": [
        "lm = LinearRegression()\n",
        "scale = StandardScaler()\n",
        "qscale = QuantileTransformer()"
      ],
      "metadata": {
        "id": "ebIwkeyCVtbG"
      },
      "execution_count": 19,
      "outputs": []
    },
    {
      "cell_type": "markdown",
      "source": [
        "## Alternate Lowess Function\n",
        "This is an alternate SciKit-Learn Compliant class that includes a lowess function we used in class previously, along with a Gaussian kernel and weights matrix function."
      ],
      "metadata": {
        "id": "JAimhL1VTrQV"
      }
    },
    {
      "cell_type": "code",
      "source": [
        "def Gaussian(x):\n",
        "  if len(x.shape)==1:\n",
        "    d = np.abs(x)\n",
        "  else:\n",
        "    # here, we are treating x as the difference between points\n",
        "    d = np.sqrt(np.sum(x**2,axis=1))\n",
        "  return np.where(d>4,0,1/(np.sqrt(2*np.pi))*np.exp(-1/2*d**2))\n",
        "\n",
        "def Tricubic(x):\n",
        "  if len(x.shape)==1:\n",
        "    d = np.abs(x)\n",
        "  else:\n",
        "    d = np.sqrt(np.sum(x**2,axis=1))\n",
        "  return np.where(d>1,0,70/81*(1-d**3)**3)\n",
        "\n",
        "def kernel_function(xi,x0,kern, tau): \n",
        "    return kern((xi - x0)/(2*tau))\n",
        "\n",
        "def weights_matrix(x,x_new,kern,tau):\n",
        "  if np.isscalar(x_new):\n",
        "    return kernel_function(x,x_new,kern,tau)\n",
        "  else:\n",
        "    n = len(x_new)\n",
        "    return np.array([kernel_function(x,x_new[i],kern,tau) for i in range(n)])\n",
        "\n",
        "class Lowess:\n",
        "    def __init__(self, kernel = Gaussian, tau=0.05):\n",
        "        self.kernel = kernel\n",
        "        self.tau = tau\n",
        "    \n",
        "    def fit(self, x, y):\n",
        "        kernel = self.kernel\n",
        "        tau = self.tau\n",
        "        self.xtrain_ = x\n",
        "        self.yhat_ = y\n",
        "\n",
        "    def predict(self, x_new):\n",
        "        check_is_fitted(self)\n",
        "        x = self.xtrain_\n",
        "        y = self.yhat_\n",
        "\n",
        "        w = weights_matrix(x,x_new,self.kernel,self.tau)\n",
        "\n",
        "        if np.isscalar(x_new):\n",
        "          lm.fit(np.diag(w).dot(x.reshape(-1,1)),np.diag(w).dot(y.reshape(-1,1)))\n",
        "          yest = lm.predict([[x_new]])[0][0]\n",
        "        elif len(x.shape)==1:\n",
        "          n = len(x_new)\n",
        "          yest_test = np.zeros(n)\n",
        "          #Looping through all x-points\n",
        "          for i in range(n):\n",
        "            lm.fit(np.diag(w[i,:]).dot(x.reshape(-1,1)),np.diag(w[i,:]).dot(y.reshape(-1,1)))\n",
        "            yest_test[i] = lm.predict(x_new[i].reshape(-1,1))\n",
        "        else:\n",
        "          n = len(x_new)\n",
        "          yest_test = np.zeros(n)\n",
        "          #Looping through all x-points\n",
        "          for i in range(n):\n",
        "            lm.fit(np.diag(w[i,:]).dot(x),np.diag(w[i,:]).dot(y.reshape(-1,1)))\n",
        "            yest_test[i] = lm.predict(x_new[i].reshape(1,-1))\n",
        "        return yest_test"
      ],
      "metadata": {
        "id": "f-EK3Bt6Tqo_"
      },
      "execution_count": 47,
      "outputs": []
    },
    {
      "cell_type": "markdown",
      "source": [
        "## Original Gramfort Function\n",
        "Here is the one dimensional version from class that does not work for multidimensional data."
      ],
      "metadata": {
        "id": "V85hrUK8740_"
      }
    },
    {
      "cell_type": "code",
      "source": [
        "def lowess_ag(x, y, f=2. / 3., iter=3):\n",
        "    \"\"\"lowess(x, y, f=2./3., iter=3) -> yest\n",
        "    Lowess smoother: Robust locally weighted regression.\n",
        "    The lowess function fits a nonparametric regression curve to a scatterplot.\n",
        "    The arrays x and y contain an equal number of elements; each pair\n",
        "    (x[i], y[i]) defines a data point in the scatterplot. The function returns\n",
        "    the estimated (smooth) values of y.\n",
        "    The smoothing span is given by f. A larger value for f will result in a\n",
        "    smoother curve. The number of robustifying iterations is given by iter. The\n",
        "    function will run faster with a smaller number of iterations.\n",
        "    \"\"\"\n",
        "    n = len(x)\n",
        "    r = int(ceil(f * n))\n",
        "    h = [np.sort(np.abs(x - x[i]))[r] for i in range(n)]\n",
        "    w = np.clip(np.abs((x[:, None] - x[None, :]) / h), 0.0, 1.0)\n",
        "    w = (1 - w ** 3) ** 3\n",
        "    yest = np.zeros(n)\n",
        "    delta = np.ones(n)\n",
        "    for iteration in range(iter):\n",
        "        for i in range(n):\n",
        "            weights = delta * w[:, i]\n",
        "            b = np.array([np.sum(weights * y), np.sum(weights * y * x)])\n",
        "            A = np.array([[np.sum(weights), np.sum(weights * x)],\n",
        "                          [np.sum(weights * x), np.sum(weights * x * x)]])\n",
        "            beta = linalg.solve(A, b)\n",
        "            yest[i] = beta[0] + beta[1] * x[i]\n",
        "\n",
        "        residuals = y - yest\n",
        "        s = np.median(np.abs(residuals))\n",
        "        delta = np.clip(residuals / (6.0 * s), -1, 1)\n",
        "        delta = (1 - delta ** 2) ** 2\n",
        "\n",
        "    return yest"
      ],
      "metadata": {
        "id": "_XihTu2lXABS"
      },
      "execution_count": 4,
      "outputs": []
    },
    {
      "cell_type": "markdown",
      "source": [
        "## New Multidimensional Function\n",
        "This distance function is useful for computing the Euclidean distance."
      ],
      "metadata": {
        "id": "iobxQRfN8xHW"
      }
    },
    {
      "cell_type": "code",
      "source": [
        "def dist(u,v):\n",
        "  if len(v.shape)==1:\n",
        "    # this reshapes into a row vector\n",
        "    v = v.reshape(1,-1)\n",
        "  d = np.array([np.sqrt(np.sum((u-v[i])**2,axis=1)) for i in range(len(v))])\n",
        "  return d"
      ],
      "metadata": {
        "id": "HXqWltRxHCap"
      },
      "execution_count": 44,
      "outputs": []
    },
    {
      "cell_type": "markdown",
      "source": [
        "Finally, we have our Multidimensional version of the Gramfort approach."
      ],
      "metadata": {
        "id": "DgSOW1wzIlh_"
      }
    },
    {
      "cell_type": "code",
      "source": [
        "def lowess_ag_md(x, y, xnew, f=2/3, iter=3, intercept=True, kernel='tricubic'):\n",
        "\n",
        "  n = len(x)\n",
        "\n",
        "  # calculating the amount of neighbors we are considering\n",
        "  r = int(ceil(f * n))\n",
        "\n",
        "  # one dimensional y and x become column vectors here\n",
        "  if len(y.shape)==1:\n",
        "    y = y.reshape(-1,1)\n",
        "\n",
        "  if len(x.shape)==1:\n",
        "    x = x.reshape(-1,1)\n",
        "\n",
        "  # we need to add a column of ones to account for the intercept\n",
        "  # this is by default, however the user has the option to not \n",
        "  # include this step\n",
        "  if intercept:\n",
        "    x1 = np.column_stack([np.ones((len(x),1)),x])\n",
        "  else:\n",
        "    x1 = x\n",
        "\n",
        "  # calculating the Euclidean distance for each observation\n",
        "  h = [np.sort(np.sqrt(np.sum((x-x[i])**2,axis=1)))[r] for i in range(n)]\n",
        "\n",
        "  # we now clip any distance that falls outside of our bounds\n",
        "  w = np.clip(dist(x,x) / h, 0.0, 1.0)\n",
        "\n",
        "  # we apply our kernel to get the weights, giving closer neighbors more weight\n",
        "  # by default, we use tricubic, however, the user may specify an alternate\n",
        "  if kernel in {'Quartic','quartic','q'}:\n",
        "    w = (1 - w ** 2) ** 2\n",
        "  elif kernel in {'Epanechnikov','epanechnikov','ep'}:\n",
        "    w = (1 - w ** 2)\n",
        "  elif kernel in {'Exponential','exponential','ex','exp','Gaussian','gaussian','g'}:\n",
        "    w = np.exp(-1/2*w**2)\n",
        "  else:\n",
        "    w = (1 - w ** 3) ** 3\n",
        "\n",
        "  # initialize our y estimate and delta\n",
        "  yest = np.zeros(n)\n",
        "  delta = np.ones(n)\n",
        "\n",
        "  for iteration in range(iter):\n",
        "    for i in range(n):\n",
        "      # convert our weights to a diagonal matrix\n",
        "      W = np.diag(w[:,i])\n",
        "\n",
        "      # this is our ordinate values\n",
        "      b = np.transpose(x1).dot(W).dot(y)\n",
        "\n",
        "      # this is our coefficient matrix\n",
        "      A = np.transpose(x1).dot(W).dot(x1)\n",
        "\n",
        "      # L2 regularization, this ensures that our matrix equation can always be solved\n",
        "      A = A + 0.0001*np.eye(x1.shape[1])\n",
        "\n",
        "      # finally, we solve our matrix equation\n",
        "      beta = linalg.solve(A, b)\n",
        "      \n",
        "      # create the y estimate\n",
        "      yest[i] = np.dot(x1[i],beta)\n",
        "\n",
        "    # now we get the residuals and calculate our cutoff for outliers\n",
        "    residuals = y - yest\n",
        "\n",
        "    # quartiles and IQR\n",
        "    Q1 = np.percentile(residuals,25)\n",
        "    Q3 = np.percentile(residuals,75)\n",
        "    IQR = Q3-Q1\n",
        "\n",
        "    # upper and lower bound for outliers\n",
        "    upper = Q3 + (1.5 * IQR)\n",
        "    lower = Q1 = (1.5 * IQR)\n",
        "\n",
        "    # these values help us standardize the data to have the lower bound be -1\n",
        "    # and the upper bound be 1\n",
        "    mid = (upper + lower) / 2\n",
        "    div = upper-mid\n",
        "\n",
        "    # finally, we clip all outliers\n",
        "    delta = np.clip((residuals - mid)/div, -1, 1)\n",
        "    delta = (1 - delta ** 2) ** 2\n",
        "\n",
        "  # this is how we handle training and testing data (x, xnew)\n",
        "  if x.shape[1]==1:\n",
        "    # this is a one dimensional interpolator\n",
        "    f = interp1d(x.flatten(),yest,fill_value='extrapolate')\n",
        "    output = f(xnew)\n",
        "  else:\n",
        "    # otherwise, we need to use principal component analysis on our higher dimensional data\n",
        "    # this is because there may be relationships between some of the features\n",
        "    output = np.zeros(len(xnew))\n",
        "    for i in range(len(xnew)):\n",
        "      ind = np.argsort(np.sqrt(np.sum((x-xnew[i])**2,axis=1)))[:r]\n",
        "      pca = PCA(n_components=3)\n",
        "      x_pca = pca.fit_transform(x[ind])\n",
        "      tri = Delaunay(x_pca,qhull_options='QJ')\n",
        "      f = LinearNDInterpolator(tri,y[ind])\n",
        "      output[i] = f(pca.transform(xnew[i].reshape(1,-1))) # the output may have NaN's where the data points from xnew are outside the convex hull of X\n",
        "\n",
        "  # the output may have NaN's where the data points from xnew are outside the convex hull of X\n",
        "  # here, we will resolve that with nearest neighbor interpolation in higher dimensions\n",
        "  if sum(np.isnan(output))>0:\n",
        "    g = NearestNDInterpolator(x,y.ravel()) \n",
        "    output[np.isnan(output)] = g(xnew[np.isnan(output)])\n",
        "  return output"
      ],
      "metadata": {
        "id": "nZ6SbQO-CZdP"
      },
      "execution_count": 28,
      "outputs": []
    },
    {
      "cell_type": "markdown",
      "source": [
        "By creating this wrapper class below, we can have our above function be SciKitLearn-compliant."
      ],
      "metadata": {
        "id": "6OJCm70bPguv"
      }
    },
    {
      "cell_type": "code",
      "source": [
        "class Lowess_AG_MD:\n",
        "    def __init__(self, f = 1/10, iter = 3,intercept=True, kernel='tricubic'):\n",
        "        self.f = f\n",
        "        self.iter = iter\n",
        "        self.intercept = intercept\n",
        "        self.kernel = kernel\n",
        "    \n",
        "    def fit(self, x, y):\n",
        "        f = self.f\n",
        "        iter = self.iter\n",
        "        self.xtrain_ = x\n",
        "        self.yhat_ = y\n",
        "\n",
        "    def predict(self, x_new):\n",
        "        check_is_fitted(self)\n",
        "        x = self.xtrain_\n",
        "        y = self.yhat_\n",
        "        f = self.f\n",
        "        iter = self.iter\n",
        "        intercept = self.intercept\n",
        "        kernel = self.kernel\n",
        "        return lowess_ag_md(x, y, x_new, f, iter, intercept, kernel)\n",
        "\n",
        "    def get_params(self, deep=True):\n",
        "        return {\"f\": self.f, \"iter\": self.iter,\"intercept\":self.intercept,\"kernel\":self.kernel}\n",
        "\n",
        "    def set_params(self, **parameters):\n",
        "        for parameter, value in parameters.items():\n",
        "            setattr(self, parameter, value)\n",
        "        return self"
      ],
      "metadata": {
        "id": "It4q2GGQGgAr"
      },
      "execution_count": 39,
      "outputs": []
    },
    {
      "cell_type": "markdown",
      "source": [
        "## Application\n",
        "We will be applying our multidimensional Gramfort function to some testing data. In addition, we will use K-Fold Cross Validation and Grid Search for validating our results and optimizing hyperparameters."
      ],
      "metadata": {
        "id": "sl-5W6HrQPy3"
      }
    },
    {
      "cell_type": "code",
      "source": [
        "from google.colab import drive\n",
        "drive.mount('/content/drive')"
      ],
      "metadata": {
        "colab": {
          "base_uri": "https://localhost:8080/"
        },
        "id": "g0w8qgslFk6z",
        "outputId": "d91bccdc-1095-4a72-cade-a68859b53d1d"
      },
      "execution_count": 40,
      "outputs": [
        {
          "output_type": "stream",
          "name": "stdout",
          "text": [
            "Drive already mounted at /content/drive; to attempt to forcibly remount, call drive.mount(\"/content/drive\", force_remount=True).\n"
          ]
        }
      ]
    },
    {
      "cell_type": "code",
      "source": [
        "data = pd.read_csv('drive/MyDrive/Colab Notebooks/data/cars.csv')"
      ],
      "metadata": {
        "id": "2sCEBg10FjFz"
      },
      "execution_count": 41,
      "outputs": []
    },
    {
      "cell_type": "code",
      "source": [
        "x = data[['CYL','ENG','WGT']].values\n",
        "y = data['MPG'].values"
      ],
      "metadata": {
        "id": "qXr2jdN4FvoG"
      },
      "execution_count": 42,
      "outputs": []
    },
    {
      "cell_type": "markdown",
      "source": [
        "We will compare our results with the results of a Random Forest Regressor and with the alternate Lowess Function.\n",
        "### K-Fold Cross Validation"
      ],
      "metadata": {
        "id": "ynCD9IJMTc14"
      }
    },
    {
      "cell_type": "code",
      "source": [
        "mse_lw_ag = []\n",
        "mse_lw = []\n",
        "mse_rf = []\n",
        "kf = KFold(n_splits=10,shuffle=True,random_state=1234)\n",
        "model_rf = RandomForestRegressor(n_estimators=200,max_depth=5)\n",
        "model_lw = Lowess(kernel=Tricubic,tau=0.02)\n",
        "model_lw_ag = Lowess_AG_MD(f=1/65,iter=3,intercept=True,kernel='tricubic')\n",
        "\n",
        "for idxtrain, idxtest in kf.split(x):\n",
        "  xtrain = x[idxtrain]\n",
        "  ytrain = y[idxtrain]\n",
        "  ytest = y[idxtest]\n",
        "  xtest = x[idxtest]\n",
        "  xtrain = scale.fit_transform(xtrain)\n",
        "  xtest = scale.transform(xtest)\n",
        "\n",
        "  model_lw_ag.fit(xtrain,ytrain)\n",
        "  yhat_lw_ag = model_lw_ag.predict(xtest)\n",
        "\n",
        "  model_lw.fit(xtrain,ytrain)\n",
        "  yhat_lw = model_lw.predict(xtest)\n",
        "  \n",
        "  model_rf.fit(xtrain,ytrain)\n",
        "  yhat_rf = model_rf.predict(xtest)\n",
        "\n",
        "  mse_lw_ag.append(mse(ytest,yhat_lw_ag))\n",
        "  mse_lw.append(mse(ytest,yhat_lw))\n",
        "  mse_rf.append(mse(ytest,yhat_rf))\n",
        "print(\"The Cross-validated Mean Squared Error for Gramfort's Locally Weighted Regression is : \"+str(np.mean(mse_lw_ag)))\n",
        "print('The Cross-validated Mean Squared Error for Locally Weighted Regression is : '+str(np.mean(mse_lw)))\n",
        "print('The Cross-validated Mean Squared Error for Random Forest is : '+str(np.mean(mse_rf)))"
      ],
      "metadata": {
        "colab": {
          "base_uri": "https://localhost:8080/"
        },
        "id": "1ZFBk1sLTUbR",
        "outputId": "06bfb29b-ba3a-4a96-e576-193d17c68026"
      },
      "execution_count": 48,
      "outputs": [
        {
          "output_type": "stream",
          "name": "stdout",
          "text": [
            "The Cross-validated Mean Squared Error for Gramfort's Locally Weighted Regression is : 26.089907926313504\n",
            "The Cross-validated Mean Squared Error for Locally Weighted Regression is : 1.6841558606802643e+19\n",
            "The Cross-validated Mean Squared Error for Random Forest is : 17.206807368339287\n"
          ]
        }
      ]
    },
    {
      "cell_type": "markdown",
      "source": [
        "### Grid Search CV"
      ],
      "metadata": {
        "id": "ulWWfJ22YzfK"
      }
    },
    {
      "cell_type": "code",
      "source": [
        "# here is our pipeline for grid search\n",
        "lwr_pipe = Pipeline([('zscores', StandardScaler()),\n",
        "                     ('lwr', Lowess_AG_MD())])"
      ],
      "metadata": {
        "id": "HzFtT_HbWUJl"
      },
      "execution_count": 49,
      "outputs": []
    },
    {
      "cell_type": "code",
      "source": [
        "# now we specify which parameters we want to consider\n",
        "params = [{'lwr__f': [1/i for i in range(3,15)],\n",
        "         'lwr__iter': [1,2,3,4],\n",
        "         'lwr__kernel': ['Tricubic','Quartic','Epanechnikov','Exponential']}]"
      ],
      "metadata": {
        "id": "Rt-ozU9GYKM5"
      },
      "execution_count": 50,
      "outputs": []
    },
    {
      "cell_type": "code",
      "source": [
        "# finally we perform the grid search\n",
        "gs_lowess = GridSearchCV(lwr_pipe,\n",
        "                      param_grid=params,\n",
        "                      scoring='neg_mean_squared_error',\n",
        "                      cv=5)\n",
        "gs_lowess.fit(x, y)\n",
        "gs_lowess.best_params_"
      ],
      "metadata": {
        "colab": {
          "base_uri": "https://localhost:8080/"
        },
        "id": "Hcm5f7gTaKm4",
        "outputId": "519859a1-5699-4f27-d225-5e6500346920"
      },
      "execution_count": 51,
      "outputs": [
        {
          "output_type": "execute_result",
          "data": {
            "text/plain": [
              "{'lwr__f': 0.3333333333333333, 'lwr__iter': 1, 'lwr__kernel': 'Tricubic'}"
            ]
          },
          "metadata": {},
          "execution_count": 51
        }
      ]
    },
    {
      "cell_type": "code",
      "source": [
        "# and we look at our score\n",
        "gs_lowess.score(x,y)"
      ],
      "metadata": {
        "colab": {
          "base_uri": "https://localhost:8080/"
        },
        "id": "HHQr9euiaN2r",
        "outputId": "43f1d4a8-f828-4780-b3dc-fa8096514e3a"
      },
      "execution_count": 52,
      "outputs": [
        {
          "output_type": "execute_result",
          "data": {
            "text/plain": [
              "-1.6547449275510306"
            ]
          },
          "metadata": {},
          "execution_count": 52
        }
      ]
    },
    {
      "cell_type": "markdown",
      "source": [
        "As we can see, our best combination of parameters was f=1/3, iter=1, and kernel=Tricubic"
      ],
      "metadata": {
        "id": "eFu5Y2FodlWf"
      }
    }
  ]
}